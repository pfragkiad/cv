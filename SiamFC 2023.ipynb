{
  "nbformat": 4,
  "nbformat_minor": 0,
  "metadata": {
    "colab": {
      "provenance": [],
      "collapsed_sections": [
        "bfrJm_1G0MVG"
      ]
    },
    "kernelspec": {
      "name": "python3",
      "display_name": "Python 3"
    },
    "language_info": {
      "name": "python"
    },
    "accelerator": "GPU"
  },
  "cells": [
    {
      "cell_type": "markdown",
      "metadata": {
        "id": "JpoKOSMYzLtx"
      },
      "source": [
        "# **Visual Object Tracking using SiamFC**\n",
        "\n",
        "Presenter: **Alexaki Erofili** - aerofili@csd.auth.gr\n",
        "\n",
        "**SiamFC**: [link](https://www.robots.ox.ac.uk/~luca/siamese-fc.html) - [paper](https://openaccess.thecvf.com/content_cvpr_2017/papers/Valmadre_End-To-End_Representation_Learning_CVPR_2017_paper.pdf) - [github](https://github.com/huanglianghua/siamfc-pytorch)\n",
        "\n",
        "***\n",
        "\n"
      ]
    },
    {
      "cell_type": "markdown",
      "metadata": {
        "id": "bfrJm_1G0MVG"
      },
      "source": [
        "### **Download code and data**\n",
        "\n",
        "* Clone the SiamFC-pytorch GitHub repository\n",
        "* Download an image sequence\n",
        "* Download pretrained SiamFC weights\n",
        "* Installed additional Python libraries"
      ]
    },
    {
      "cell_type": "code",
      "metadata": {
        "id": "g18E6VtNzLEt"
      },
      "source": [
        "# clone SiamFC-PyTorch repo\n",
        "!git clone https://github.com/huanglianghua/siamfc-pytorch.git"
      ],
      "execution_count": null,
      "outputs": []
    },
    {
      "cell_type": "code",
      "metadata": {
        "id": "c0x8wole0qYG"
      },
      "source": [
        "# download a video to perform the tracking task\n",
        "!wget -q --show-progress --load-cookies /tmp/cookies.txt \"https://docs.google.com/uc?export=download&confirm=$(wget --quiet --save-cookies /tmp/cookies.txt --keep-session-cookies --no-check-certificate 'https://docs.google.com/uc?export=download&id=1qiGPGzx2qwECaMPccklv61TUm7t_qEfX' -O- | sed -rn 's/.*confirm=([0-9A-Za-z_]+).*/\\1\\n/p')&id=1qiGPGzx2qwECaMPccklv61TUm7t_qEfX\" -O Crossing.zip && rm -rf /tmp/cookies.txt\n",
        "!unzip Crossing.zip"
      ],
      "execution_count": null,
      "outputs": []
    },
    {
      "cell_type": "code",
      "metadata": {
        "id": "TvCRnVzw6hWo",
        "colab": {
          "base_uri": "https://localhost:8080/"
        },
        "outputId": "5a774f88-3876-4cda-f1d3-1c70a37e6d39"
      },
      "source": [
        "# download pretrained weights\n",
        "!wget -q --show-progress --load-cookies /tmp/cookies.txt \"https://docs.google.com/uc?export=download&confirm=$(wget --quiet --save-cookies /tmp/cookies.txt --keep-session-cookies --no-check-certificate 'https://docs.google.com/uc?export=download&id=1UdxuBQ1qtisoWYFZxLgMFJ9mJtGVw6n4' -O- | sed -rn 's/.*confirm=([0-9A-Za-z_]+).*/\\1\\n/p')&id=1UdxuBQ1qtisoWYFZxLgMFJ9mJtGVw6n4\" -O siamfc_alexnet_e50.pth && rm -rf /tmp/cookies.txt"
      ],
      "execution_count": null,
      "outputs": [
        {
          "output_type": "stream",
          "text": [
            "\rsiamfc_alexnet_e50.     [<=>                 ]       0  --.-KB/s               \rsiamfc_alexnet_e50.     [ <=>                ]   8.93M  --.-KB/s    in 0.07s   \n"
          ],
          "name": "stdout"
        }
      ]
    },
    {
      "cell_type": "code",
      "metadata": {
        "id": "HQAgLzab2laB"
      },
      "source": [
        "!pip install got10k"
      ],
      "execution_count": null,
      "outputs": []
    },
    {
      "cell_type": "markdown",
      "metadata": {
        "id": "V7KFD6zE1YR-"
      },
      "source": [
        "### **Run the code**"
      ]
    },
    {
      "cell_type": "markdown",
      "metadata": {
        "id": "KF55nY6O8WFM"
      },
      "source": [
        "As a first step we will import TrackerSiamFC class."
      ]
    },
    {
      "cell_type": "code",
      "metadata": {
        "id": "F3XW-soo2VqF"
      },
      "source": [
        "%cd /content/siamfc-pytorch\n",
        "from siamfc.siamfc import TrackerSiamFC"
      ],
      "execution_count": null,
      "outputs": []
    },
    {
      "cell_type": "markdown",
      "metadata": {
        "id": "DxtcntwK8cP_"
      },
      "source": [
        "Now we will execute SiamFC. Since we are not able to play video (at least not easily) on Colab, we will save the tracking results and use OpenCV later in order to create the resulting video."
      ]
    },
    {
      "cell_type": "code",
      "metadata": {
        "id": "8VRJGbiU2tyR"
      },
      "source": [
        "from __future__ import absolute_import\n",
        "\n",
        "import os\n",
        "import glob\n",
        "import numpy as np\n",
        "\n",
        "\n",
        "seq_dir = os.path.expanduser('/content/Crossing/')\n",
        "img_files = sorted(glob.glob(seq_dir + 'img/*.jpg'))\n",
        "anno = np.loadtxt(seq_dir + 'groundtruth_rect.txt')\n",
        "\n",
        "net_path = '/content/siamfc_alexnet_e50.pth'\n",
        "tracker = TrackerSiamFC(net_path=net_path)\n",
        "boxes, times = tracker.track(img_files, anno[0], visualize=False)\n"
      ],
      "execution_count": null,
      "outputs": []
    },
    {
      "cell_type": "markdown",
      "metadata": {
        "id": "AVJwTYLR9Xy0"
      },
      "source": [
        "### **Visualize the results**"
      ]
    },
    {
      "cell_type": "code",
      "metadata": {
        "id": "6RE80C979bzj"
      },
      "source": [
        "import cv2\n",
        "import os\n",
        "\n",
        "# output file\n",
        "output_file = os.path.join('out.mp4')\n",
        "\n",
        "# parameters for saving video output\n",
        "img = cv2.imread(img_files[0])\n",
        "frame_width = img.shape[1]\n",
        "frame_height = img.shape[0]\n",
        "fourcc = cv2.VideoWriter_fourcc(*'FMP4')\n",
        "video = cv2.VideoWriter(output_file, fourcc, float(25), (frame_width, frame_height))\n",
        "\n",
        "for ii in enumerate(img_files):\n",
        "    img_name = ii[1]\n",
        "    box = boxes[ii[0]]\n",
        "    img = cv2.imread(img_name)\n",
        "    x, y, w, h = box.astype(int)\n",
        "    cv2.rectangle(img, (x, y), (x + w, y + h), (0, 255, 0), 4)\n",
        "    video.write(img)\n",
        "\n",
        "video.release()\n",
        ""
      ],
      "execution_count": null,
      "outputs": []
    }
  ]
}